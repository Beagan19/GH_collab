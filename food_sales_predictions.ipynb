{
  "nbformat": 4,
  "nbformat_minor": 0,
  "metadata": {
    "colab": {
      "provenance": [],
      "authorship_tag": "ABX9TyPqqsAQ3f/y0GBYVIgcPX1o",
      "include_colab_link": true
    },
    "kernelspec": {
      "name": "python3",
      "display_name": "Python 3"
    },
    "language_info": {
      "name": "python"
    }
  },
  "cells": [
    {
      "cell_type": "markdown",
      "metadata": {
        "id": "view-in-github",
        "colab_type": "text"
      },
      "source": [
        "<a href=\"https://colab.research.google.com/github/Beagan19/GH_collab/blob/main/food_sales_predictions.ipynb\" target=\"_parent\"><img src=\"https://colab.research.google.com/assets/colab-badge.svg\" alt=\"Open In Colab\"/></a>"
      ]
    },
    {
      "cell_type": "markdown",
      "source": [
        "# Food Sales Predictions\n",
        "Brooke Eagan\n"
      ],
      "metadata": {
        "id": "WvF7MggVohob"
      }
    },
    {
      "cell_type": "markdown",
      "source": [
        "## Loading Data\n"
      ],
      "metadata": {
        "id": "QHVpx46YooeZ"
      }
    },
    {
      "cell_type": "code",
      "source": [],
      "metadata": {
        "id": "e3XZp6ZTpNys"
      },
      "execution_count": null,
      "outputs": []
    },
    {
      "cell_type": "markdown",
      "source": [
        "## Data Cleaming"
      ],
      "metadata": {
        "id": "BMmTE978o4v0"
      }
    },
    {
      "cell_type": "code",
      "source": [],
      "metadata": {
        "id": "CsK3mjfApOnY"
      },
      "execution_count": null,
      "outputs": []
    },
    {
      "cell_type": "markdown",
      "source": [
        "## Exploratory Visuals"
      ],
      "metadata": {
        "id": "u-vHGfhAo8i1"
      }
    },
    {
      "cell_type": "code",
      "source": [],
      "metadata": {
        "id": "ukvsfOdOpPGz"
      },
      "execution_count": null,
      "outputs": []
    },
    {
      "cell_type": "markdown",
      "source": [
        "## Explanatory Visuals"
      ],
      "metadata": {
        "id": "cR456CuBpCXs"
      }
    },
    {
      "cell_type": "code",
      "source": [],
      "metadata": {
        "id": "8SBZHJ2cpPp-"
      },
      "execution_count": null,
      "outputs": []
    }
  ]
}